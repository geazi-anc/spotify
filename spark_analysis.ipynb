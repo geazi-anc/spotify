{
 "cells": [
  {
   "cell_type": "markdown",
   "metadata": {},
   "source": [
    "# 1. Introdução\n",
    "\n",
    "o ecossistema Hadoop é um conjunto de tecnologias de código aberto projetado para armazenar, processar, analisar e gerenciar grandes volumes de dados de forma distribuída. Ele é amplamente utilizado para lidar com os desafios relacionados ao processamento de dados em escala, como os gerados por empresas, instituições de pesquisa e diversas indústrias.\n",
    "O componente central do ecossistema Hadoop é o Hadoop Distributed File System (HDFS), um sistema de arquivos distribuído que divide os dados em blocos e os distribui em vários nós de um cluster de servidores. Isso permite o armazenamento e processamento eficiente de grandes conjuntos de dados.\n",
    "\n",
    "Por sua vez, o Apache Spark é um framework de computação distribuída de código aberto projetado para processamento de dados em grande escala. Ele fornece uma plataforma unificada para processamento de dados em lote, processamento em tempo real, aprendizado de máquina e análise interativa. O Spark foi projetado para ser rápido, flexível e fácil de usar.\n",
    "\n",
    "Neste projeto, buscou-se investigar a aplicação prática do Apache Spark para a análise das informações fornecidas pelos dados de músicas e artistas do Spotify, buscando compreender como esse ecossistema pode ser empregado na extração de insights valiosos a partir de grandes volumes de dados. Ao explorar as funcionalidades do Spark e sua integração com os dados da plataforma de streaming, esperou-se obter uma visão mais profunda das capacidades analíticas que essa combinação pode oferecer.\n"
   ]
  },
  {
   "cell_type": "markdown",
   "metadata": {},
   "source": [
    "# 2. Transformação dos dados\n",
    "\n",
    "A seguir, iremos inicializar o Apache Spark e ler os arquivos *artists.csv* e *tracks.csv*. Depois, iremos fazer uma pequena transformação nos dados no dataframe de tracks, fazendo a conversão de tipagem de algumas colunas e, por fim, unindo este ao dataframe de artists.\n"
   ]
  },
  {
   "cell_type": "code",
   "execution_count": 1,
   "metadata": {},
   "outputs": [
    {
     "name": "stderr",
     "output_type": "stream",
     "text": [
      "your 131072x1 screen size is bogus. expect trouble\n",
      "23/10/11 19:04:10 WARN Utils: Your hostname, geazi resolves to a loopback address: 127.0.1.1; using 192.168.75.156 instead (on interface eth0)\n",
      "23/10/11 19:04:10 WARN Utils: Set SPARK_LOCAL_IP if you need to bind to another address\n",
      "Setting default log level to \"WARN\".\n",
      "To adjust logging level use sc.setLogLevel(newLevel). For SparkR, use setLogLevel(newLevel).\n",
      "23/10/11 19:04:12 WARN NativeCodeLoader: Unable to load native-hadoop library for your platform... using builtin-java classes where applicable\n"
     ]
    }
   ],
   "source": [
    "from pyspark.sql import SparkSession, Window\n",
    "from pyspark.sql.functions import (avg, col, count, date_format, explode, rank,\n",
    "                                   regexp_replace, split, sum)\n",
    "\n",
    "spark = SparkSession.builder.getOrCreate()\n"
   ]
  },
  {
   "cell_type": "code",
   "execution_count": 2,
   "metadata": {},
   "outputs": [
    {
     "name": "stderr",
     "output_type": "stream",
     "text": [
      "[Stage 1:>                                                          (0 + 8) / 8]\r"
     ]
    },
    {
     "name": "stdout",
     "output_type": "stream",
     "text": [
      "root\n",
      " |-- id: string (nullable = true)\n",
      " |-- followers: double (nullable = true)\n",
      " |-- genres: string (nullable = true)\n",
      " |-- name: string (nullable = true)\n",
      " |-- popularity: string (nullable = true)\n",
      "\n"
     ]
    },
    {
     "name": "stderr",
     "output_type": "stream",
     "text": [
      "                                                                                \r"
     ]
    }
   ],
   "source": [
    "raw_artists = spark.read.csv(\n",
    "    \"artists.csv\",\n",
    "    header=True,\n",
    "    inferSchema=True\n",
    ")\n",
    "\n",
    "raw_artists.printSchema()\n"
   ]
  },
  {
   "cell_type": "code",
   "execution_count": 3,
   "metadata": {},
   "outputs": [
    {
     "name": "stderr",
     "output_type": "stream",
     "text": [
      "[Stage 3:=======>                                                   (1 + 7) / 8]\r"
     ]
    },
    {
     "name": "stdout",
     "output_type": "stream",
     "text": [
      "root\n",
      " |-- id: string (nullable = true)\n",
      " |-- name: string (nullable = true)\n",
      " |-- popularity: string (nullable = true)\n",
      " |-- duration_ms: string (nullable = true)\n",
      " |-- explicit: string (nullable = true)\n",
      " |-- artists: string (nullable = true)\n",
      " |-- id_artists: string (nullable = true)\n",
      " |-- release_date: string (nullable = true)\n",
      " |-- danceability: string (nullable = true)\n",
      " |-- energy: string (nullable = true)\n",
      " |-- key: string (nullable = true)\n",
      " |-- loudness: string (nullable = true)\n",
      " |-- mode: string (nullable = true)\n",
      " |-- speechiness: string (nullable = true)\n",
      " |-- acousticness: string (nullable = true)\n",
      " |-- instrumentalness: string (nullable = true)\n",
      " |-- liveness: string (nullable = true)\n",
      " |-- valence: string (nullable = true)\n",
      " |-- tempo: string (nullable = true)\n",
      " |-- time_signature: string (nullable = true)\n",
      "\n"
     ]
    },
    {
     "name": "stderr",
     "output_type": "stream",
     "text": [
      "                                                                                \r"
     ]
    }
   ],
   "source": [
    "raw_tracks = spark.read.csv(\n",
    "    \"tracks.csv\",\n",
    "    header=True,\n",
    "    inferSchema=True\n",
    ")\n",
    "\n",
    "raw_tracks.printSchema()\n"
   ]
  },
  {
   "cell_type": "code",
   "execution_count": 4,
   "metadata": {},
   "outputs": [
    {
     "name": "stdout",
     "output_type": "stream",
     "text": [
      "root\n",
      " |-- id: string (nullable = true)\n",
      " |-- name: string (nullable = true)\n",
      " |-- popularity: integer (nullable = true)\n",
      " |-- duration_ms: integer (nullable = true)\n",
      " |-- release_date: date (nullable = true)\n",
      " |-- id_artist: string (nullable = false)\n",
      "\n"
     ]
    }
   ],
   "source": [
    "transformed_tracks = raw_tracks.select(\n",
    "    \"id\",\n",
    "    \"name\",\n",
    "    col(\"popularity\").cast(\"INTEGER\").alias(\"popularity\"),\n",
    "    col(\"duration_ms\").cast(\"INTEGER\").alias(\"duration_ms\"),\n",
    "    col(\"release_date\").cast(\"DATE\").alias(\"release_date\"),\n",
    "    explode(split(regexp_replace(\"id_artists\", \"[\\\\[\\\\]']\", \"\"), \",\")).alias(\n",
    "        \"id_artist\")\n",
    ")\n",
    "\n",
    "transformed_tracks.printSchema()\n"
   ]
  },
  {
   "cell_type": "code",
   "execution_count": 5,
   "metadata": {},
   "outputs": [
    {
     "name": "stdout",
     "output_type": "stream",
     "text": [
      "root\n",
      " |-- artist_id: string (nullable = true)\n",
      " |-- artist_name: string (nullable = true)\n",
      " |-- artist_poppularity: string (nullable = true)\n",
      " |-- artist_followers: double (nullable = true)\n",
      " |-- track_id: string (nullable = true)\n",
      " |-- track_name: string (nullable = true)\n",
      " |-- track_popularity: integer (nullable = true)\n",
      " |-- track_duration_ms: integer (nullable = true)\n",
      " |-- track_release_date: date (nullable = true)\n",
      "\n"
     ]
    }
   ],
   "source": [
    "raw_artists = raw_artists.alias(\"a\")\n",
    "transformed_tracks = transformed_tracks.alias(\"t\")\n",
    "\n",
    "tracks = (\n",
    "    transformed_tracks.join(raw_artists, on=transformed_tracks.id_artist == raw_artists.id)\n",
    "    .select(\n",
    "        col(\"a.id\").alias(\"artist_id\"),\n",
    "        col(\"a.name\").alias(\"artist_name\"),\n",
    "        col(\"a.popularity\").alias(\"artist_poppularity\"),\n",
    "        col(\"a.followers\").alias(\"artist_followers\"),\n",
    "        col(\"t.id\").alias(\"track_id\"),\n",
    "        col(\"t.name\").alias(\"track_name\"),\n",
    "        col(\"t.popularity\").alias(\"track_popularity\"),\n",
    "        col(\"t.duration_ms\").alias(\"track_duration_ms\"),\n",
    "        col(\"t.release_date\").alias(\"track_release_date\")\n",
    "    )\n",
    ")\n",
    "\n",
    "tracks.printSchema()\n"
   ]
  },
  {
   "cell_type": "markdown",
   "metadata": {},
   "source": [
    "# 3. Análise dos dados\n",
    "\n",
    "Nas próximas células de código iremos fazer algumas análises de dados com base nas análises feitas anteriormente com o Apache Hive. Para cada análise será explanado o problema seguido imediatamente pelo trecho de código.\n"
   ]
  },
  {
   "cell_type": "markdown",
   "metadata": {},
   "source": [
    "## 3.1. Artistas com músicas mais populares\n",
    "\n",
    "Com essa análise, buscou-se analisar os três principais artistas que tiveram a maior somatória de popularidade de suas músicas e que ano em que esse record ocorreu.\n"
   ]
  },
  {
   "cell_type": "code",
   "execution_count": 7,
   "metadata": {},
   "outputs": [
    {
     "name": "stderr",
     "output_type": "stream",
     "text": [
      "[Stage 5:============================================>              (6 + 2) / 8]\r"
     ]
    },
    {
     "name": "stdout",
     "output_type": "stream",
     "text": [
      "+----------------------+-----------------+----+----------------+\n",
      "|artist_id             |artist_name      |year|total_popularity|\n",
      "+----------------------+-----------------+----+----------------+\n",
      "|3meJIgRw7YleJrmbpbJK6S|Die drei ???     |1980|16710           |\n",
      "|3meJIgRw7YleJrmbpbJK6S|Die drei ???     |1979|15918           |\n",
      "|0i38tQX5j4gZ0KS3eCMoIl|TKKG Retro-Archiv|1982|13030           |\n",
      "+----------------------+-----------------+----+----------------+\n",
      "\n"
     ]
    },
    {
     "name": "stderr",
     "output_type": "stream",
     "text": [
      "                                                                                \r"
     ]
    }
   ],
   "source": [
    "ex1 = (\n",
    "    tracks.withColumn(\"year\", date_format(\"track_release_date\", \"y\"))\n",
    "    .groupBy(\"artist_id\", \"artist_name\", \"year\")\n",
    "    .agg(sum(\"track_popularity\").alias(\"total_popularity\"))\n",
    "    .orderBy(\"total_popularity\", ascending=False)\n",
    "    .limit(3)\n",
    ")\n",
    "\n",
    "ex1.show(truncate=False)\n"
   ]
  },
  {
   "cell_type": "markdown",
   "metadata": {},
   "source": [
    "## 3.2. Média da duração das músicas\n",
    "\n",
    "Essa análise teve como objetivo analisar os dez principais artistas cuja somatória da duração de suas músicas fosse no máximo 50% maior do que a média geral da duração das músicas de todos os artistas.\n"
   ]
  },
  {
   "cell_type": "code",
   "execution_count": 8,
   "metadata": {},
   "outputs": [
    {
     "name": "stderr",
     "output_type": "stream",
     "text": [
      "                                                                                \r"
     ]
    },
    {
     "name": "stdout",
     "output_type": "stream",
     "text": [
      "+------------------------------------------------------------+-----------------+\n",
      "|track_name                                                  |track_duration_s |\n",
      "+------------------------------------------------------------+-----------------+\n",
      "|โครงสร้างแห่งสิ่งที่เรียกว่าชีวิต                           |93686.96666666666|\n",
      "|Surah Al-Araf                                               |83251.38333333333|\n",
      "|Tech House The Yearbook 2018 - Continuous Mix 2             |81072.21666666666|\n",
      "|6 Years of 1980 Recordings - Part 2 - 2010-2012 Dj Mix      |80001.96666666666|\n",
      "|Surah An-Nisa                                               |79954.3          |\n",
      "|Monster Tunes Yearmix 2011 - Mixed by Mark Eteson           |79876.45         |\n",
      "|Tech House The Yearbook 2018 - Continuous Mix 1             |79277.03333333334|\n",
      "|Surah Aal-E-Imran                                           |78754.4          |\n",
      "|Happy New Year Mix 2009                                     |78278.16666666667|\n",
      "|Enhanced Best of 2010 Year Mix, Part One - Continuous DJ Mix|78098.78333333334|\n",
      "+------------------------------------------------------------+-----------------+\n",
      "\n"
     ]
    }
   ],
   "source": [
    "avg_duration_ms = tracks.select(avg(\"track_duration_ms\").cast(\n",
    "    \"INTEGER\").alias(\"track_avg_duration_ms\")).first().track_avg_duration_ms\n",
    "\n",
    "ex2 = (\n",
    "    tracks.filter(tracks.track_duration_ms >=\n",
    "                  avg_duration_ms + avg_duration_ms * 0.5)\n",
    "    .select(\"track_name\", (col(\"track_duration_ms\") / 60).alias(\"track_duration_s\"))\n",
    "    .orderBy(\"track_duration_s\", ascending=False)\n",
    "    .limit(10)\n",
    ")\n",
    "\n",
    "ex2.show(truncate=False)\n"
   ]
  },
  {
   "cell_type": "markdown",
   "metadata": {},
   "source": [
    "## 3.3. Artista com mais seguidores\n",
    "\n",
    "Dessa vez, analisou-se o artista com a maior quantidade de seguidores e quais de suas músicas é a mais popular.\n"
   ]
  },
  {
   "cell_type": "code",
   "execution_count": 9,
   "metadata": {},
   "outputs": [
    {
     "name": "stderr",
     "output_type": "stream",
     "text": [
      "[Stage 22:>                                                         (0 + 8) / 9]\r"
     ]
    },
    {
     "name": "stdout",
     "output_type": "stream",
     "text": [
      "+-------------+----------------+--------------------------------------+\n",
      "|artist_name  |artist_followers|most_popular_track                    |\n",
      "+-------------+----------------+--------------------------------------+\n",
      "|Ed Sheeran   |7.8900234E7     |Afterglow                             |\n",
      "|Ariana Grande|6.1301006E7     |positions                             |\n",
      "|Drake        |5.4416812E7     |What’s Next                           |\n",
      "|Justin Bieber|4.4606973E7     |Peaches (feat. Daniel Caesar & Giveon)|\n",
      "|Eminem       |4.3747833E7     |Godzilla (feat. Juice WRLD)           |\n",
      "+-------------+----------------+--------------------------------------+\n",
      "\n"
     ]
    },
    {
     "name": "stderr",
     "output_type": "stream",
     "text": [
      "                                                                                \r"
     ]
    }
   ],
   "source": [
    "window_spec = Window.partitionBy(\"artist_id\").orderBy(\n",
    "    col(\"track_popularity\").desc())\n",
    "\n",
    "ex3 = (\n",
    "    tracks.withColumn(\"rank\", rank().over(window_spec))\n",
    "    .filter(\"rank == 1\")\n",
    "    .orderBy(\"artist_followers\", ascending=False)\n",
    "    .select(\"artist_name\", \"artist_followers\", col(\"track_name\").alias(\"most_popular_track\"))\n",
    "    .limit(5)\n",
    ")\n",
    "\n",
    "ex3.show(5, truncate=False)\n"
   ]
  },
  {
   "cell_type": "markdown",
   "metadata": {},
   "source": [
    "## 3.4. Décadas com mais lançamento de músicas\n",
    "\n",
    "Com essa análise, procurou determinar as décadas que tiveram a maior quantidade de lançamento de músicas, assim como as décadas que tiveram mais músicas populares.\n"
   ]
  },
  {
   "cell_type": "code",
   "execution_count": 10,
   "metadata": {},
   "outputs": [
    {
     "name": "stderr",
     "output_type": "stream",
     "text": [
      "                                                                                \r"
     ]
    },
    {
     "name": "stdout",
     "output_type": "stream",
     "text": [
      "+------+---------------------+----------------+\n",
      "|decade|total_released_tracks|total_popularity|\n",
      "+------+---------------------+----------------+\n",
      "|2010  |100860               |4058934         |\n",
      "|1990  |107203               |3172233         |\n",
      "|2000  |85399                |3145675         |\n",
      "|1980  |81390                |2097852         |\n",
      "|1970  |60984                |1481596         |\n",
      "|1960  |46339                |837660          |\n",
      "|2020  |17782                |794987          |\n",
      "|1950  |33349                |290986          |\n",
      "|1940  |17722                |31960           |\n",
      "|1930  |12922                |27469           |\n",
      "|1920  |7583                 |8660            |\n",
      "|1900  |1                    |19              |\n",
      "+------+---------------------+----------------+\n",
      "\n"
     ]
    }
   ],
   "source": [
    "ex4 = (\n",
    "    tracks.withColumn(\"track_release_year\", date_format(\n",
    "        \"track_release_date\", \"y\").cast(\"INTEGER\"))\n",
    "    .withColumn(\"decade\", col(\"track_release_year\") - col(\"track_release_year\") % 10)\n",
    "    .groupBy(\"decade\")\n",
    "    .agg(\n",
    "        count(\"*\").alias(\"total_released_tracks\"),\n",
    "        sum(\"track_popularity\").alias(\"total_popularity\")\n",
    "    )\n",
    "    .orderBy(\"total_popularity\", ascending=False)\n",
    ")\n",
    "\n",
    "ex4.show(truncate=False)\n"
   ]
  },
  {
   "cell_type": "markdown",
   "metadata": {},
   "source": [
    "## 3.5. Música mais popular da década\n",
    "\n",
    "Por fim, essa análise identifica qual foi a música mais popular da década, desde 1921 até 2020.\n"
   ]
  },
  {
   "cell_type": "code",
   "execution_count": 11,
   "metadata": {},
   "outputs": [
    {
     "name": "stderr",
     "output_type": "stream",
     "text": [
      "[Stage 31:======================================>                   (6 + 3) / 9]\r"
     ]
    },
    {
     "name": "stdout",
     "output_type": "stream",
     "text": [
      "+------+----------------------------------------+----------------+\n",
      "|decade|most_popular_track                      |track_popularity|\n",
      "+------+----------------------------------------+----------------+\n",
      "|2020  |Peaches (feat. Daniel Caesar & Giveon)  |100             |\n",
      "|2010  |Streets                                 |94              |\n",
      "|2000  |Cupid's Chokehold / Breakfast in America|87              |\n",
      "|1990  |Smells Like Teen Spirit                 |83              |\n",
      "|1980  |Take on Me                              |86              |\n",
      "|1970  |Dreams - 2004 Remaster                  |86              |\n",
      "|1960  |Fortunate Son                           |83              |\n",
      "|1950  |Johnny B. Goode                         |77              |\n",
      "|1940  |Gymnopédie No. 1                        |69              |\n",
      "|1930  |All of Me                               |65              |\n",
      "|1920  |Mack the Knife                          |55              |\n",
      "|1900  |Maldita sea la primera vez              |19              |\n",
      "+------+----------------------------------------+----------------+\n",
      "\n"
     ]
    },
    {
     "name": "stderr",
     "output_type": "stream",
     "text": [
      "                                                                                \r"
     ]
    }
   ],
   "source": [
    "window_spec = Window.partitionBy(\"decade\").orderBy(\n",
    "    col(\"track_popularity\").desc(), col(\"track_id\"))\n",
    "\n",
    "ex5 = (\n",
    "    tracks.withColumn(\"track_release_year\", date_format(\n",
    "        \"track_release_date\", \"y\").cast(\"INTEGER\"))\n",
    "    .withColumn(\"decade\", col(\"track_release_year\") - col(\"track_release_year\") % 10)\n",
    "    .withColumn(\"rank\", rank().over(window_spec))\n",
    "    .filter(\"rank == 1\")\n",
    "    .select(\"decade\", col(\"track_name\").alias(\"most_popular_track\"), \"track_popularity\")\n",
    "    .distinct()\n",
    "    .orderBy(\"decade\", ascending=False)\n",
    ")\n",
    "\n",
    "ex5.show(truncate=False)\n"
   ]
  },
  {
   "cell_type": "markdown",
   "metadata": {},
   "source": [
    "# 4. Considerações finais e próximos passos\n",
    "\n",
    "A análise de dados realizada utilizando o Apache Spark em um conjunto de dados provenientes do Spotify demonstrou a capacidade poderosa dessa ferramenta no processamento e exploração de informações em larga escala. A combinação das tabelas \"tracks\" e \"artists\" proporcionou uma visão abrangente sobre as tendências musicais, popularidade das faixas e artistas, bem como padrões de lançamento e duração de músicas.\n",
    "\n",
    "Através da execução de consultas complexas e janelas de análise no Spark, foi possível identificar insights valiosos que podem orientar decisões estratégicas no cenário da indústria musical. Por exemplo, ao analisar a popularidade das faixas por década, pudemos observar como os gostos musicais evoluíram ao longo do tempo, destacando os artistas e gêneros mais influentes em cada período.\n",
    "\n",
    "Uma das aplicações promissoras dos dados coletados, como uma proposta de solução futura, é a construção de um modelo de machine learning para prever a popularidade futura de novas faixas com base nas características dos artistas, gêneros e outras variáveis relevantes. Utilizando algoritmos de regressão ou classificação, é possível criar um modelo que ajude as gravadoras e plataformas de streaming a direcionar seus esforços de promoção e recomendação de músicas, maximizando o impacto e alcance das novas faixas.\n"
   ]
  }
 ],
 "metadata": {
  "kernelspec": {
   "display_name": "Python 3",
   "language": "python",
   "name": "python3"
  },
  "language_info": {
   "codemirror_mode": {
    "name": "ipython",
    "version": 3
   },
   "file_extension": ".py",
   "mimetype": "text/x-python",
   "name": "python",
   "nbconvert_exporter": "python",
   "pygments_lexer": "ipython3",
   "version": "3.11.2"
  }
 },
 "nbformat": 4,
 "nbformat_minor": 2
}
